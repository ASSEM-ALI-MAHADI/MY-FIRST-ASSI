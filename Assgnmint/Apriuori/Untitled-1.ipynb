{
 "cells": [
  {
   "cell_type": "code",
   "execution_count": 8,
   "id": "2ac842f8",
   "metadata": {},
   "outputs": [
    {
     "name": "stdout",
     "output_type": "stream",
     "text": [
      "✅ Frequent Itemsets:\n",
      "    support  itemsets\n",
      "0  0.478344  (Coffee)\n",
      "\n",
      "✅ Association Rules:\n",
      "Empty DataFrame\n",
      "Columns: [antecedents, consequents, support, confidence, lift]\n",
      "Index: []\n"
     ]
    }
   ],
   "source": [
    "import pandas as pd\n",
    "from mlxtend.preprocessing import TransactionEncoder\n",
    "from mlxtend.frequent_patterns import apriori, association_rules\n",
    "\n",
    "# تحميل البيانات من ملف CSV\n",
    "# يفترض أن كل صف يمثل معاملة وكل عنصر مفصول بفاصلة\n",
    "file_path = 'transactions.csv'\n",
    "\n",
    "# قراءة الملف وتكوين قائمة بالمعاملات\n",
    "transactions = []\n",
    "with open('ItemList.csv', 'r') as file:\n",
    "    for line in file:\n",
    "        items = line.strip().split(',')\n",
    "        transactions.append(items)\n",
    "\n",
    "# تحويل البيانات إلى One-Hot Encoding\n",
    "te = TransactionEncoder()\n",
    "te_ary = te.fit(transactions).transform(transactions)\n",
    "df = pd.DataFrame(te_ary, columns=te.columns_)\n",
    "\n",
    "# تطبيق خوارزمية Apriori\n",
    "frequent_itemsets = apriori(df, min_support=0.4, use_colnames=True)\n",
    "\n",
    "# عرض المجموعات المتكررة\n",
    "print(\"✅ Frequent Itemsets:\")\n",
    "print(frequent_itemsets)\n",
    "\n",
    "# استخراج قواعد الربط\n",
    "rules = association_rules(frequent_itemsets, metric=\"confidence\", min_threshold=0.6)\n",
    "\n",
    "# عرض القواعد\n",
    "print(\"\\n✅ Association Rules:\")\n",
    "print(rules[['antecedents', 'consequents', 'support', 'confidence', 'lift']])\n"
   ]
  },
  {
   "cell_type": "code",
   "execution_count": null,
   "id": "b29d0319",
   "metadata": {},
   "outputs": [],
   "source": []
  }
 ],
 "metadata": {
  "kernelspec": {
   "display_name": "Python 3",
   "language": "python",
   "name": "python3"
  },
  "language_info": {
   "codemirror_mode": {
    "name": "ipython",
    "version": 3
   },
   "file_extension": ".py",
   "mimetype": "text/x-python",
   "name": "python",
   "nbconvert_exporter": "python",
   "pygments_lexer": "ipython3",
   "version": "3.12.4"
  }
 },
 "nbformat": 4,
 "nbformat_minor": 5
}
